{
 "cells": [
  {
   "cell_type": "code",
   "execution_count": 4,
   "id": "f9cf6a08",
   "metadata": {},
   "outputs": [
    {
     "name": "stdout",
     "output_type": "stream",
     "text": [
      "Name: A, Age: 17\n",
      "Added Math = 90\n",
      "Added Science = 85\n",
      "Marks:\n",
      "Math: 90\n",
      "Science: 85\n",
      "Average Score: 87.5\n"
     ]
    }
   ],
   "source": [
    "class Person:\n",
    "    def __init__(self, name, age):\n",
    "        self.name = name\n",
    "        self.age = age\n",
    "\n",
    "    def display_info(self):\n",
    "        print(f\"Name: {self.name}, Age: {self.age}\")\n",
    "\n",
    "class Student(Person):\n",
    "    def __init__(self, name, age):\n",
    "        super().__init__(name, age)  \n",
    "        self.marks = {}              \n",
    "\n",
    "    def add_mark(self, subject, score):\n",
    "        if subject in self.marks:\n",
    "            self.marks[subject] = score\n",
    "            print(f\"Updated {subject} = {score}\")\n",
    "        else:\n",
    "            self.marks[subject] = score\n",
    "            print(f\"Added {subject} = {score}\")\n",
    "\n",
    "    def display_marks(self):\n",
    "        if not self.marks:\n",
    "            print(\"No marks to display.\")\n",
    "        else:\n",
    "            print(\"Marks:\")\n",
    "            for subject, score in self.marks.items():\n",
    "                print(f\"{subject}: {score}\")\n",
    "\n",
    "    def average(self):\n",
    "        if not self.marks:\n",
    "            return 0\n",
    "        return sum(self.marks.values()) / len(self.marks)\n",
    "\n",
    "\n",
    "student1 = Student(\"A\", 17)\n",
    "\n",
    "student1.display_info()\n",
    "\n",
    "student1.add_mark(\"Math\", 90)\n",
    "student1.add_mark(\"Science\", 85)\n",
    "\n",
    "student1.display_marks()\n",
    "\n",
    "avg_score = student1.average()\n",
    "print(f\"Average Score: {avg_score}\")"
   ]
  }
 ],
 "metadata": {
  "kernelspec": {
   "display_name": "Python 3",
   "language": "python",
   "name": "python3"
  },
  "language_info": {
   "codemirror_mode": {
    "name": "ipython",
    "version": 3
   },
   "file_extension": ".py",
   "mimetype": "text/x-python",
   "name": "python",
   "nbconvert_exporter": "python",
   "pygments_lexer": "ipython3",
   "version": "3.12.6"
  }
 },
 "nbformat": 4,
 "nbformat_minor": 5
}
